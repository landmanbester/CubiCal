{
 "cells": [
  {
   "cell_type": "code",
   "execution_count": null,
   "metadata": {
    "collapsed": true
   },
   "outputs": [],
   "source": [
    "## usual preamble\n",
    "from cubical import param_db\n",
    "import numpy as np\n",
    "from pylab import *\n",
    "%matplotlib inline"
   ]
  },
  {
   "cell_type": "code",
   "execution_count": null,
   "metadata": {},
   "outputs": [],
   "source": [
    "db = param_db.load('D147-LO-NOIFS-NOPOL-4M5S.MS/gains-field-0')\n",
    "print db.names()"
   ]
  },
  {
   "cell_type": "code",
   "execution_count": null,
   "metadata": {
    "collapsed": true
   },
   "outputs": [],
   "source": [
    "G = db['G:gain']\n",
    "ax = G.ax\n",
    "time, freq = G.grid[ax.time], G.grid[ax.freq]             # grid info\n",
    "antennas = [ant for ant in G.grid[ax.ant] if G.is_slice_valid(ant=ant,corr1=0,corr2=0)]\n",
    "corrs = G.grid[ax.corr1]"
   ]
  },
  {
   "cell_type": "code",
   "execution_count": null,
   "metadata": {
    "scrolled": false
   },
   "outputs": [],
   "source": [
    "figure(figsize=(20,2*len(antennas)))\n",
    "S = slice(0,50)\n",
    "for iant, ant in enumerate(antennas):\n",
    "    for ic,(c1,c2) in enumerate([(0,0),(1,1),(0,1),(1,0)]):\n",
    "        g, (t,f) = G.get_slice(ant=ant,corr1=c1,corr2=c2)\n",
    "        if g is None:\n",
    "            continue\n",
    "        subplot(len(antennas),8,iant*8 + ic*2 + 1)\n",
    "        imshow(abs(g[S]))\n",
    "        title(\"{}:{}{} ampl\".format(ant,c1,c2))\n",
    "        if ic != 0:\n",
    "            yticks([])\n",
    "        if iant != len(antennas)-1:\n",
    "            xticks([])\n",
    "        subplot(len(antennas),8,iant*8 + ic*2 + 2)\n",
    "        imshow(np.angle(g[S]))\n",
    "        title(\"{}:{}{} phase\".format(ant,c1,c2))\n",
    "        yticks([])\n",
    "        if iant != len(antennas)-1:\n",
    "            xticks([])"
   ]
  }
 ],
 "metadata": {
  "kernelspec": {
   "display_name": "cc",
   "language": "python",
   "name": "cc"
  },
  "language_info": {
   "codemirror_mode": {
    "name": "ipython",
    "version": 2.0
   },
   "file_extension": ".py",
   "mimetype": "text/x-python",
   "name": "python",
   "nbconvert_exporter": "python",
   "pygments_lexer": "ipython2",
   "version": "2.7.12"
  }
 },
 "nbformat": 4,
 "nbformat_minor": 0
}